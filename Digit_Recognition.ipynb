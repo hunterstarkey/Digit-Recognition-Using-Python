{
  "nbformat": 4,
  "nbformat_minor": 0,
  "metadata": {
    "colab": {
      "provenance": []
    },
    "kernelspec": {
      "name": "python3",
      "display_name": "Python 3"
    }
  },
  "cells": [
    {
      "cell_type": "code",
      "metadata": {
        "id": "pd6efav5zsH7"
      },
      "source": [
        "# importing useful Python Libraries \n",
        "import matplotlib.pyplot as plt\n",
        "import cv2\n",
        "import numpy as np\n",
        "import seaborn as sns\n",
        "\n",
        "import functools as ft\n",
        "import itertools as it\n",
        "import operator as op\n",
        "\n",
        "import os\n",
        "import glob \n",
        "import os.path as osp\n",
        "\n",
        "# Import the statistical learning/machine learning related libraries \n",
        "from sklearn import (cluster, datasets, decomposition,\n",
        "                     metrics,\n",
        "                     model_selection as skms, \n",
        "                     neighbors, pipeline, svm, \n",
        "                     preprocessing as skpre)"
      ],
      "execution_count": null,
      "outputs": []
    },
    {
      "cell_type": "code",
      "metadata": {
        "id": "IDTRRLW00gre"
      },
      "source": [
        "import utilities\n",
        "\n",
        "from utilities import my_show, my_gshow, my_read, my_read_g, my_read_cg, size_me"
      ],
      "execution_count": null,
      "outputs": []
    },
    {
      "cell_type": "code",
      "metadata": {
        "id": "P69ErKuy0vVg"
      },
      "source": [
        "%matplotlib inline"
      ],
      "execution_count": null,
      "outputs": []
    },
    {
      "cell_type": "code",
      "metadata": {
        "id": "g0r3GQiF1AKJ"
      },
      "source": [
        "def cm_helper(ax, actual, predicted): \n",
        "    cm = metrics.confusion_matrix(actual, predicted) #it accepts two lists, one with the actual data and one with the predicted \n",
        "\n",
        "    sns.heatmap(cm, annot=True, fmt='3d', ax=ax)\n",
        "    ax.set_ylabel('Actual')\n",
        "    ax.set_xlabel('Predicted')\n",
        "\n",
        "np.random.seed(42)"
      ],
      "execution_count": null,
      "outputs": []
    },
    {
      "cell_type": "code",
      "metadata": {
        "id": "eB8YO6cO8cVu"
      },
      "source": [
        "# Load the digits dataset. This dataset is from the sklearn library \n",
        "digits= datasets.load_digits()"
      ],
      "execution_count": null,
      "outputs": []
    },
    {
      "cell_type": "code",
      "metadata": {
        "id": "t_lOGPPY8-ic",
        "outputId": "a5a19db1-597d-46e1-891b-72e887c8d1e4",
        "colab": {
          "base_uri": "https://localhost:8080/",
          "height": 34
        }
      },
      "source": [
        "print(digits.keys())"
      ],
      "execution_count": null,
      "outputs": [
        {
          "output_type": "stream",
          "text": [
            "dict_keys(['data', 'target', 'target_names', 'images', 'DESCR'])\n"
          ],
          "name": "stdout"
        }
      ]
    },
    {
      "cell_type": "code",
      "metadata": {
        "id": "19AcAktv9Jzv",
        "outputId": "1126af15-fc09-4dfb-e1ad-61f09ceb7403",
        "colab": {
          "base_uri": "https://localhost:8080/",
          "height": 799
        }
      },
      "source": [
        "#Description of the dataset \n",
        "print(digits.DESCR)"
      ],
      "execution_count": null,
      "outputs": [
        {
          "output_type": "stream",
          "text": [
            ".. _digits_dataset:\n",
            "\n",
            "Optical recognition of handwritten digits dataset\n",
            "--------------------------------------------------\n",
            "\n",
            "**Data Set Characteristics:**\n",
            "\n",
            "    :Number of Instances: 5620\n",
            "    :Number of Attributes: 64\n",
            "    :Attribute Information: 8x8 image of integer pixels in the range 0..16.\n",
            "    :Missing Attribute Values: None\n",
            "    :Creator: E. Alpaydin (alpaydin '@' boun.edu.tr)\n",
            "    :Date: July; 1998\n",
            "\n",
            "This is a copy of the test set of the UCI ML hand-written digits datasets\n",
            "https://archive.ics.uci.edu/ml/datasets/Optical+Recognition+of+Handwritten+Digits\n",
            "\n",
            "The data set contains images of hand-written digits: 10 classes where\n",
            "each class refers to a digit.\n",
            "\n",
            "Preprocessing programs made available by NIST were used to extract\n",
            "normalized bitmaps of handwritten digits from a preprinted form. From a\n",
            "total of 43 people, 30 contributed to the training set and different 13\n",
            "to the test set. 32x32 bitmaps are divided into nonoverlapping blocks of\n",
            "4x4 and the number of on pixels are counted in each block. This generates\n",
            "an input matrix of 8x8 where each element is an integer in the range\n",
            "0..16. This reduces dimensionality and gives invariance to small\n",
            "distortions.\n",
            "\n",
            "For info on NIST preprocessing routines, see M. D. Garris, J. L. Blue, G.\n",
            "T. Candela, D. L. Dimmick, J. Geist, P. J. Grother, S. A. Janet, and C.\n",
            "L. Wilson, NIST Form-Based Handprint Recognition System, NISTIR 5469,\n",
            "1994.\n",
            "\n",
            ".. topic:: References\n",
            "\n",
            "  - C. Kaynak (1995) Methods of Combining Multiple Classifiers and Their\n",
            "    Applications to Handwritten Digit Recognition, MSc Thesis, Institute of\n",
            "    Graduate Studies in Science and Engineering, Bogazici University.\n",
            "  - E. Alpaydin, C. Kaynak (1998) Cascading Classifiers, Kybernetika.\n",
            "  - Ken Tang and Ponnuthurai N. Suganthan and Xi Yao and A. Kai Qin.\n",
            "    Linear dimensionalityreduction using relevance weighted LDA. School of\n",
            "    Electrical and Electronic Engineering Nanyang Technological University.\n",
            "    2005.\n",
            "  - Claudio Gentile. A New Approximate Maximal Margin Classification\n",
            "    Algorithm. NIPS. 2000.\n"
          ],
          "name": "stdout"
        }
      ]
    },
    {
      "cell_type": "code",
      "metadata": {
        "id": "Mz131lkX9ilQ",
        "outputId": "00ee16d9-363d-43cc-d013-6cf72b7ed889",
        "colab": {
          "base_uri": "https://localhost:8080/",
          "height": 136
        }
      },
      "source": [
        "# Data content on the digits dataset \n",
        "print(digits.data)\n"
      ],
      "execution_count": null,
      "outputs": [
        {
          "output_type": "stream",
          "text": [
            "[[ 0.  0.  5. ...  0.  0.  0.]\n",
            " [ 0.  0.  0. ... 10.  0.  0.]\n",
            " [ 0.  0.  0. ... 16.  9.  0.]\n",
            " ...\n",
            " [ 0.  0.  1. ...  6.  0.  0.]\n",
            " [ 0.  0.  2. ... 12.  0.  0.]\n",
            " [ 0.  0. 10. ... 12.  1.  0.]]\n"
          ],
          "name": "stdout"
        }
      ]
    },
    {
      "cell_type": "code",
      "metadata": {
        "id": "Ww6cMoKl9Em-",
        "outputId": "dc6dd57a-b64e-4ec8-87d2-ac5e0c2f1395",
        "colab": {
          "base_uri": "https://localhost:8080/",
          "height": 136
        }
      },
      "source": [
        "print(digits.data)"
      ],
      "execution_count": null,
      "outputs": [
        {
          "output_type": "stream",
          "text": [
            "[[ 0.  0.  5. ...  0.  0.  0.]\n",
            " [ 0.  0.  0. ... 10.  0.  0.]\n",
            " [ 0.  0.  0. ... 16.  9.  0.]\n",
            " ...\n",
            " [ 0.  0.  1. ...  6.  0.  0.]\n",
            " [ 0.  0.  2. ... 12.  0.  0.]\n",
            " [ 0.  0. 10. ... 12.  1.  0.]]\n"
          ],
          "name": "stdout"
        }
      ]
    },
    {
      "cell_type": "code",
      "metadata": {
        "id": "wSfWuvNJ9siv",
        "outputId": "1eb636d5-1fbf-49bb-8d17-a4fe631c2109",
        "colab": {
          "base_uri": "https://localhost:8080/",
          "height": 34
        }
      },
      "source": [
        "# Find the dimension on the digits dataset \n",
        "digits.data.shape\n",
        "#There are 1,797 samples and each sample contains 64 attributes (8X8 image)"
      ],
      "execution_count": null,
      "outputs": [
        {
          "output_type": "execute_result",
          "data": {
            "text/plain": [
              "(1797, 64)"
            ]
          },
          "metadata": {
            "tags": []
          },
          "execution_count": 10
        }
      ]
    },
    {
      "cell_type": "code",
      "metadata": {
        "id": "q9U_MCWB9-y_",
        "outputId": "4306114d-26f8-482b-f8cf-00852cdb3f16",
        "colab": {
          "base_uri": "https://localhost:8080/",
          "height": 102
        }
      },
      "source": [
        "# If you want to access the first example of the dataset \n",
        "digits.data[0]\n",
        "#Here the result is an array with 64 elements. Each element contains a number that goes from 0 to 16 indicating the \"color\" of that particular pixel. \n",
        "#Those 64 pixels form an 8X8 image. Therefore, the digits dataset has 1797 arrays just like this one."
      ],
      "execution_count": null,
      "outputs": [
        {
          "output_type": "execute_result",
          "data": {
            "text/plain": [
              "array([ 0.,  0.,  5., 13.,  9.,  1.,  0.,  0.,  0.,  0., 13., 15., 10.,\n",
              "       15.,  5.,  0.,  0.,  3., 15.,  2.,  0., 11.,  8.,  0.,  0.,  4.,\n",
              "       12.,  0.,  0.,  8.,  8.,  0.,  0.,  5.,  8.,  0.,  0.,  9.,  8.,\n",
              "        0.,  0.,  4., 11.,  0.,  1., 12.,  7.,  0.,  0.,  2., 14.,  5.,\n",
              "       10., 12.,  0.,  0.,  0.,  0.,  6., 13., 10.,  0.,  0.,  0.])"
            ]
          },
          "metadata": {
            "tags": []
          },
          "execution_count": 11
        }
      ]
    },
    {
      "cell_type": "code",
      "metadata": {
        "id": "YFWztHiL-KOK",
        "outputId": "2209c1b9-d6f1-4d02-b3ce-b56a5802261f",
        "colab": {
          "base_uri": "https://localhost:8080/",
          "height": 51
        }
      },
      "source": [
        "# Target the values of the dataset\n",
        "print(digits.target) #this will give you what the image actually is meaning the first image is a 0, the second is a 1....\n",
        "len(digits.target)"
      ],
      "execution_count": null,
      "outputs": [
        {
          "output_type": "stream",
          "text": [
            "[0 1 2 ... 8 9 8]\n"
          ],
          "name": "stdout"
        },
        {
          "output_type": "execute_result",
          "data": {
            "text/plain": [
              "1797"
            ]
          },
          "metadata": {
            "tags": []
          },
          "execution_count": 12
        }
      ]
    },
    {
      "cell_type": "code",
      "metadata": {
        "id": "gOcf_3Q1-zf6",
        "outputId": "98e33a61-87a0-497c-b412-9125fa4f714b",
        "colab": {
          "base_uri": "https://localhost:8080/",
          "height": 34
        }
      },
      "source": [
        "# Displays the names of the possible targets (digits 0-9)\n",
        "print(digits.target_names) #target_names represents the classes (those are the possible values that each image can contain)"
      ],
      "execution_count": null,
      "outputs": [
        {
          "output_type": "stream",
          "text": [
            "[0 1 2 3 4 5 6 7 8 9]\n"
          ],
          "name": "stdout"
        }
      ]
    },
    {
      "cell_type": "code",
      "metadata": {
        "id": "OndBkB6S-_nn",
        "outputId": "b72e9033-596b-4e63-f412-4359c113d78e",
        "colab": {
          "base_uri": "https://localhost:8080/",
          "height": 294
        }
      },
      "source": [
        "#Load data\n",
        "digits=datasets.load_digits()\n",
        "\n",
        "#Simplify some names and manipulate the shape of the data \n",
        "#Number of samples\n",
        "n_examples=len(digits.images)\n",
        "\n",
        "#Data and target \n",
        "data = digits.images.reshape(n_examples, -1) #N rows, rest is flattened. \n",
        "# To apply a classifier on this data, we need to flatten the image, to\n",
        "# turn the data in a (samples, feature) matrix: \n",
        "tgts = digits.target\n",
        "\n",
        "#Set the seed for reproducibility \n",
        "np.random.seed(55)\n",
        "\n",
        "#Split the data into train/test sets \n",
        "(data_train, data_tst, \n",
        "  tgts_train, tgts_tst) = skms.train_test_split(data,tgts, test_size =.2) \n",
        "#so 80% of the data is being used for training\n",
        "#and 20% is being used in the test split\n",
        "\n",
        "\n",
        "\n",
        "\n",
        "param_grid = {'n_neighbors' : [n for n in range(1,10)]}   #We are using this find the optimal number of neighbors\n",
        "model = skms.GridSearchCV(neighbors.KNeighborsClassifier(),\n",
        "                          param_grid,\n",
        "                          n_jobs=-1).fit(data_train, tgts_train)\n",
        "\n",
        "model.best_params_['n_neighbors']\n",
        "#create and fit model \n",
        "\n",
        "knn_classifier=neighbors.KNeighborsClassifier(n_neighbors=model.best_params_['n_neighbors']) #knn_classifier\n",
        "knn_classifier.fit(data_train, tgts_train)                   #returns a list in which the rows are queries and columns are neighbors  \n",
        "\n",
        "#Predict and evaluate result for the first test case \n",
        "predicted = knn_classifier.predict(data_tst[0:1,:])[0] #this is to test on 2D\n",
        "                                                       #the second colon is determining that the function is fetching everything less than 1 and greater than zero\n",
        "actual = tgts_tst[0]\n",
        "\n",
        "my_gshow(plt.gca(), data_tst[0].reshape(8,8)) #My g show is being used to plot the image. At this point we are reshaping the data(which was initially flattened) to an 8x8 again\n",
        "plt.gca().set_title(\"K-Nearest Neighbors Classifier\\nactual: {}\\npredicted: {}\".format(actual,predicted)); "
      ],
      "execution_count": null,
      "outputs": [
        {
          "output_type": "display_data",
          "data": {
            "image/png": "[encoded data removed]",
            "text/plain": [
              "<Figure size 432x288 with 1 Axes>"
            ]
          },
          "metadata": {
            "tags": [],
            "needs_background": "light"
          }
        }
      ]
    },
    {
      "cell_type": "code",
      "metadata": {
        "id": "ZC_aY_cX3QgV",
        "outputId": "76b22c57-ff1c-45f1-fa19-57a45922cada",
        "colab": {
          "base_uri": "https://localhost:8080/",
          "height": 34
        }
      },
      "source": [
        "param_grid = {'n_neighbors' : [n for n in range(1,10,2)]}\n",
        "model = skms.GridSearchCV(neighbors.KNeighborsClassifier(),\n",
        "                          param_grid,\n",
        "                          n_jobs=-1).fit(data_train, tgts_train)\n",
        "\n",
        "model.best_params_['n_neighbors']"
      ],
      "execution_count": null,
      "outputs": [
        {
          "output_type": "execute_result",
          "data": {
            "text/plain": [
              "1"
            ]
          },
          "metadata": {
            "tags": []
          },
          "execution_count": 15
        }
      ]
    },
    {
      "cell_type": "code",
      "metadata": {
        "id": "0379qVlbELbE",
        "outputId": "28601ce2-f947-4c20-98aa-fd13fe23f653",
        "colab": {
          "base_uri": "https://localhost:8080/",
          "height": 568
        }
      },
      "source": [
        "#Make predictions for the entire test set and see how the model performed \n",
        "predicted=knn_classifier.predict(data_tst) #Here we are moving to an analysis of the entire dataset \n",
        "\n",
        "#Classification report that displays percision, recall, f1-score, and support for each class \n",
        "report=metrics.classification_report(tgts_tst, predicted)\n",
        "print(report)\n",
        "\n",
        "#Display confusion matrix\n",
        "cm_helper(plt.gca(), tgts_tst, predicted)\n",
        "\n",
        " \n"
      ],
      "execution_count": null,
      "outputs": [
        {
          "output_type": "stream",
          "text": [
            "              precision    recall  f1-score   support\n",
            "\n",
            "           0       1.00      1.00      1.00        25\n",
            "           1       0.94      1.00      0.97        33\n",
            "           2       1.00      1.00      1.00        40\n",
            "           3       1.00      1.00      1.00        44\n",
            "           4       0.97      1.00      0.98        31\n",
            "           5       0.96      1.00      0.98        43\n",
            "           6       1.00      0.97      0.99        36\n",
            "           7       1.00      1.00      1.00        44\n",
            "           8       1.00      1.00      1.00        28\n",
            "           9       1.00      0.89      0.94        36\n",
            "\n",
            "    accuracy                           0.99       360\n",
            "   macro avg       0.99      0.99      0.99       360\n",
            "weighted avg       0.99      0.99      0.99       360\n",
            "\n"
          ],
          "name": "stdout"
        },
        {
          "output_type": "display_data",
          "data": {
            "image/png": "[encoded data removed]",
            "text/plain": [
              "<Figure size 432x288 with 2 Axes>"
            ]
          },
          "metadata": {
            "tags": [],
            "needs_background": "light"
          }
        }
      ]
    },
    {
      "cell_type": "code",
      "metadata": {
        "id": "_LlwV0Kihrve"
      },
      "source": [
        "import matplotlib.pyplot as plt \n",
        "from sklearn import datasets \n",
        "from sklearn import svm \n",
        "digits=datasets.load_digits()"
      ],
      "execution_count": null,
      "outputs": []
    },
    {
      "cell_type": "code",
      "metadata": {
        "id": "VcC94pKu4Z6f"
      },
      "source": [
        "param_grid = {'C'     : np.logspace(-1, 5, 8), \n",
        "              'gamma' : np.logspace(-5, -2, 3)}\n",
        "\n",
        " \n",
        "\n",
        "model = skms.GridSearchCV(svm.SVC(class_weight='balanced'),\n",
        "                          param_grid).fit(data_train, tgts_train)\n",
        "    "
      ],
      "execution_count": null,
      "outputs": []
    },
    {
      "cell_type": "code",
      "metadata": {
        "id": "yRhxeQOO4heD",
        "outputId": "1765cb56-77c9-4ecb-e6b2-fb72e98bc212",
        "colab": {
          "base_uri": "https://localhost:8080/",
          "height": 34
        }
      },
      "source": [
        "model.best_params_[\"C\"]\n",
        "model.best_params_[\"gamma\"]"
      ],
      "execution_count": null,
      "outputs": [
        {
          "output_type": "execute_result",
          "data": {
            "text/plain": [
              "0.00031622776601683794"
            ]
          },
          "metadata": {
            "tags": []
          },
          "execution_count": 19
        }
      ]
    },
    {
      "cell_type": "code",
      "metadata": {
        "id": "nlhrBKCFlhyp",
        "outputId": "90dfcbb1-e624-4375-8a06-8d844304183c",
        "colab": {
          "base_uri": "https://localhost:8080/",
          "height": 85
        }
      },
      "source": [
        "clf=svm.SVC(gamma=model.best_params_[\"gamma\"], C=model.best_params_[\"C\"])\n",
        "X,y=data_train,tgts_train\n",
        "clf.fit(X,y)\n"
      ],
      "execution_count": null,
      "outputs": [
        {
          "output_type": "execute_result",
          "data": {
            "text/plain": [
              "SVC(C=5.17947467923121, break_ties=False, cache_size=200, class_weight=None,\n",
              "    coef0=0.0, decision_function_shape='ovr', degree=3,\n",
              "    gamma=0.00031622776601683794, kernel='rbf', max_iter=-1, probability=False,\n",
              "    random_state=None, shrinking=True, tol=0.001, verbose=False)"
            ]
          },
          "metadata": {
            "tags": []
          },
          "execution_count": 20
        }
      ]
    },
    {
      "cell_type": "code",
      "metadata": {
        "id": "bW9oNbG8pomq",
        "outputId": "8a5f16f1-16f7-48b6-8fec-48c4c4f13a30",
        "colab": {
          "base_uri": "https://localhost:8080/",
          "height": 282
        }
      },
      "source": [
        "print('Prediction:',clf.predict(digits.data)[-2])\n",
        "plt.imshow(digits.images[-2], cmap=plt.cm.gray_r, interpolation='nearest')\n",
        "plt.show()"
      ],
      "execution_count": null,
      "outputs": [
        {
          "output_type": "stream",
          "text": [
            "Prediction: 9\n"
          ],
          "name": "stdout"
        },
        {
          "output_type": "display_data",
          "data": {
            "image/png": "[encoded data removed]",
            "text/plain": [
              "<Figure size 432x288 with 1 Axes>"
            ]
          },
          "metadata": {
            "tags": [],
            "needs_background": "light"
          }
        }
      ]
    },
    {
      "cell_type": "code",
      "metadata": {
        "id": "-DHxKtvk5GxE",
        "outputId": "f95ca1c4-89e5-45fd-fde8-48e13b3ce5ee",
        "colab": {
          "base_uri": "https://localhost:8080/",
          "height": 568
        }
      },
      "source": [
        "[]#Make predictions for the entire test set and see how the model performed \n",
        "predicted=clf.predict(data_tst) #Here we are moving to an analysis of the entire dataset \n",
        "\n",
        "#Classification report that displays percision, recall, f1-score, and support for each class \n",
        "report=metrics.classification_report(tgts_tst, predicted)\n",
        "print(report)\n",
        "\n",
        "#Display confusion matrix\n",
        "cm_helper(plt.gca(), tgts_tst, predicted)"
      ],
      "execution_count": null,
      "outputs": [
        {
          "output_type": "stream",
          "text": [
            "              precision    recall  f1-score   support\n",
            "\n",
            "           0       1.00      1.00      1.00        25\n",
            "           1       1.00      1.00      1.00        33\n",
            "           2       1.00      1.00      1.00        40\n",
            "           3       1.00      0.95      0.98        44\n",
            "           4       1.00      1.00      1.00        31\n",
            "           5       0.98      1.00      0.99        43\n",
            "           6       1.00      1.00      1.00        36\n",
            "           7       1.00      1.00      1.00        44\n",
            "           8       0.93      1.00      0.97        28\n",
            "           9       1.00      0.97      0.99        36\n",
            "\n",
            "    accuracy                           0.99       360\n",
            "   macro avg       0.99      0.99      0.99       360\n",
            "weighted avg       0.99      0.99      0.99       360\n",
            "\n"
          ],
          "name": "stdout"
        },
        {
          "output_type": "display_data",
          "data": {
            "image/png": "[encoded data removed]",
            "text/plain": [
              "<Figure size 432x288 with 2 Axes>"
            ]
          },
          "metadata": {
            "tags": [],
            "needs_background": "light"
          }
        }
      ]
    },
    {
      "cell_type": "code",
      "metadata": {
        "id": "KI88EVo75OrC"
      },
      "source": [
        "param_grid = {'pca__n_components' : [10, 20, 30, 40, 50, 60, 70, 80, 90,99],\n",
        "              'svc__C'     : np.logspace(-1, 5, 8),\n",
        "              'svc__gamma' : np.logspace(-5, -2, 3)}"
      ],
      "execution_count": null,
      "outputs": []
    },
    {
      "cell_type": "code",
      "metadata": {
        "id": "dOwBeLS67QB5"
      },
      "source": [
        "pipe = pipeline.make_pipeline(decomposition.PCA(svd_solver='randomized',\n",
        "                                                whiten=True), \n",
        "                              svm.SVC(class_weight='balanced'))\n",
        "\n",
        " \n",
        "\n",
        "model = skms.GridSearchCV(pipe, param_grid, \n",
        "                          n_jobs=-1).fit(data_train, tgts_train)"
      ],
      "execution_count": null,
      "outputs": []
    },
    {
      "cell_type": "code",
      "metadata": {
        "id": "R4Ij4ONo8Kit",
        "outputId": "0c47af32-390b-4833-a54b-b31edb2d44e7",
        "colab": {
          "base_uri": "https://localhost:8080/",
          "height": 568
        }
      },
      "source": [
        "[]#Make predictions for the entire test set and see how the model performed \n",
        "predicted=model.predict(data_tst) #Here we are moving to an analysis of the entire dataset \n",
        "\n",
        "#Classification report that displays percision, recall, f1-score, and support for each class \n",
        "report=metrics.classification_report(tgts_tst, predicted)\n",
        "print(report)\n",
        "\n",
        "#Display confusion matrix\n",
        "cm_helper(plt.gca(), tgts_tst, predicted)"
      ],
      "execution_count": null,
      "outputs": [
        {
          "output_type": "stream",
          "text": [
            "              precision    recall  f1-score   support\n",
            "\n",
            "           0       1.00      1.00      1.00        25\n",
            "           1       1.00      1.00      1.00        33\n",
            "           2       1.00      1.00      1.00        40\n",
            "           3       1.00      0.95      0.98        44\n",
            "           4       1.00      1.00      1.00        31\n",
            "           5       0.98      1.00      0.99        43\n",
            "           6       1.00      1.00      1.00        36\n",
            "           7       0.98      1.00      0.99        44\n",
            "           8       0.93      0.96      0.95        28\n",
            "           9       1.00      0.97      0.99        36\n",
            "\n",
            "    accuracy                           0.99       360\n",
            "   macro avg       0.99      0.99      0.99       360\n",
            "weighted avg       0.99      0.99      0.99       360\n",
            "\n"
          ],
          "name": "stdout"
        },
        {
          "output_type": "display_data",
          "data": {
            "image/png": "[encoded data removed]",
            "text/plain": [
              "<Figure size 432x288 with 2 Axes>"
            ]
          },
          "metadata": {
            "tags": [],
            "needs_background": "light"
          }
        }
      ]
    },
    {
      "cell_type": "code",
      "metadata": {
        "id": "jXhGAvo287an"
      },
      "source": [
        "#For each one of the three parts of the code, we essentially took five steps (listed below)\n",
        "#1-Cross validation\n",
        "#2-Finding the best parameters using the grid search \n",
        "#3-Testing (split in trainning and test )\n",
        "#4-Report \n",
        "#5-Confusion matrix "
      ],
      "execution_count": null,
      "outputs": []
    }
  ]
}